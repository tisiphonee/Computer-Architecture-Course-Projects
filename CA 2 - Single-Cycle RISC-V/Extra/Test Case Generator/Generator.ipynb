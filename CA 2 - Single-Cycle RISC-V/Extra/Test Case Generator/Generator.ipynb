{
 "cells": [
  {
   "cell_type": "code",
   "execution_count": 151,
   "metadata": {},
   "outputs": [
    {
     "name": "stdout",
     "output_type": "stream",
     "text": [
      "3861865097 11100110001011110110001010001001\n",
      "540047835 00100000001100000111100111011011\n",
      "2777571303 10100101100011100101111111100111\n",
      "3205388825 10111111000011100101101000011001\n",
      "2988749797 10110010001001001011001111100101\n",
      "994245236 00111011010000101111101001110100\n",
      "2189570688 10000010100000100011001010000000\n",
      "2431173063 10010000111010001100000111000111\n",
      "2231429060 10000101000000001110011111000100\n",
      "4102770561 11110100100010110100111110000001\n"
     ]
    }
   ],
   "source": [
    "import random\n",
    "\n",
    "\n",
    "def gen(n):\n",
    "    for i in range(1, n+1):\n",
    "        random_numbers = [random.randint(0, 2**32 - 1) for _ in range(10)]\n",
    "        with open(f'test_cases/arr{i}.mem', 'w') as mem_file, open(f'test_cases/array{i}.txt', 'w') as array_file:\n",
    "\n",
    "            for number in random_numbers:\n",
    "                bytes_list = [(number >> i) & 0xFF for i in (24, 16, 8, 0)]\n",
    "                if(i==1):\n",
    "                    print(number, bin(number)[2:].zfill(32))\n",
    "                for byte in bytes_list:\n",
    "                    mem_file.write(f\"{byte:08b}\\n\")\n",
    "\n",
    "                array_file.write(f\"{number} || {number:032b}\\n\")\n",
    "\n",
    "            array_file.write(f\"Max: {max(random_numbers)} ,{bin(max(random_numbers))[2:].zfill(32)}\")\n",
    "\n",
    "\n",
    "gen(20)\n"
   ]
  }
 ],
 "metadata": {
  "kernelspec": {
   "display_name": "Python 3",
   "language": "python",
   "name": "python3"
  },
  "language_info": {
   "codemirror_mode": {
    "name": "ipython",
    "version": 3
   },
   "file_extension": ".py",
   "mimetype": "text/x-python",
   "name": "python",
   "nbconvert_exporter": "python",
   "pygments_lexer": "ipython3",
   "version": "3.10.6"
  }
 },
 "nbformat": 4,
 "nbformat_minor": 2
}

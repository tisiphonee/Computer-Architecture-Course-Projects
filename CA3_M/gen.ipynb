{
 "cells": [
  {
   "cell_type": "markdown",
   "metadata": {},
   "source": [
    "# Assembler : "
   ]
  },
  {
   "cell_type": "code",
   "execution_count": 33,
   "metadata": {},
   "outputs": [],
   "source": [
    "def hex_to_binary(hex_string):\n",
    "    decimal_value = int(hex_string, 16)\n",
    "    bytes_list = [(decimal_value >> i) & 0xFF for i in (24, 16, 8, 0)]\n",
    "    binary_strings = [f\"{byte:08b}\" for byte in bytes_list]\n",
    "    return binary_strings\n",
    "\n",
    "with open(\"code_hex.txt\", \"r\") as file:\n",
    "    hex_values = file.read().splitlines()\n",
    "\n",
    "hex_address = 0\n",
    "\n",
    "with open(\"binary_instructions.txt\", \"w\") as mem_file:\n",
    "    for hex_value in hex_values:\n",
    "        mem_file.write(f\"@{hex(hex_address)[2:].zfill(3)}\\n\")\n",
    "        binary_values = hex_to_binary(hex_value)\n",
    "        for binary_value in binary_values:\n",
    "            mem_file.write(binary_value + \"\\n\")\n",
    "        hex_address += 4\n"
   ]
  },
  {
   "cell_type": "code",
   "execution_count": 34,
   "metadata": {},
   "outputs": [],
   "source": [
    "def hex_to_binary(hex_string):\n",
    "    decimal_value = int(hex_string, 16)\n",
    "    bytes_list = [(decimal_value >> i) & 0xFF for i in (24, 16, 8, 0)]\n",
    "    binary_strings = [f\"{byte:08b}\" for byte in bytes_list]\n",
    "    return binary_strings\n",
    "\n",
    "with open(\"code_hex2.txt\", \"r\") as file:\n",
    "    hex_values = file.read().splitlines()\n",
    "\n",
    "hex_address = 0\n",
    "\n",
    "with open(\"binary_instructions2.txt\", \"w\") as mem_file:\n",
    "    for hex_value in hex_values:\n",
    "        mem_file.write(f\"@{hex(hex_address)[2:].zfill(3)}\\n\")\n",
    "        binary_values = hex_to_binary(hex_value)\n",
    "        for binary_value in binary_values:\n",
    "            mem_file.write(binary_value + \"\\n\")\n",
    "        hex_address += 4\n"
   ]
  },
  {
   "cell_type": "markdown",
   "metadata": {},
   "source": [
    "# Generating Test cases : "
   ]
  },
  {
   "cell_type": "code",
   "execution_count": 35,
   "metadata": {},
   "outputs": [],
   "source": [
    "import random\n",
    "\n",
    "def gen(n):\n",
    "    with open('binary_instructions2.txt', 'r') as inst_file:\n",
    "        inst_content = inst_file.read()\n",
    "    for i in range(1, n+1):\n",
    "        hex_address = 0x3e8\n",
    "        random_numbers = [random.randint(0, 2**32 - 1) for _ in range(10)]\n",
    "        with open(f'test_cases2/arr{i}.mem', 'w') as mem_file, open(f'test_cases2/array{i}.txt', 'w') as array_file:\n",
    "            mem_file.write(inst_content) \n",
    "            for number in random_numbers:\n",
    "                mem_file.write(f\"@{hex(hex_address)[2:]}\\n\")\n",
    "                bytes_list = [(number >> i) & 0xFF for i in (24, 16, 8, 0)]\n",
    "                for byte in bytes_list:\n",
    "                    mem_file.write(f\"{byte:08b}\\n\")\n",
    "                hex_address += 4 \n",
    "\n",
    "                array_file.write(f\"{number} || {number:032b}\\n\")\n",
    "            array_file.write(f\"Max: {max(random_numbers)} ,{bin(max(random_numbers))[2:].zfill(32)}\")\n",
    "\n",
    "gen(20)\n"
   ]
  },
  {
   "cell_type": "code",
   "execution_count": 36,
   "metadata": {},
   "outputs": [],
   "source": [
    "import random\n",
    "\n",
    "def gen(n):\n",
    "    with open('binary_instructions.txt', 'r') as inst_file:\n",
    "        inst_content = inst_file.read()\n",
    "    for i in range(1, n+1):\n",
    "        hex_address = 0x3e8\n",
    "        random_numbers = [random.randint(0, 2**32 - 1) for _ in range(10)]\n",
    "        with open(f'test_cases/arr{i}.mem', 'w') as mem_file, open(f'test_cases/array{i}.txt', 'w') as array_file:\n",
    "            mem_file.write(inst_content) \n",
    "            for number in random_numbers:\n",
    "                mem_file.write(f\"@{hex(hex_address)[2:]}\\n\")\n",
    "                bytes_list = [(number >> i) & 0xFF for i in (24, 16, 8, 0)]\n",
    "                for byte in bytes_list:\n",
    "                    mem_file.write(f\"{byte:08b}\\n\")\n",
    "                hex_address += 4 \n",
    "\n",
    "                array_file.write(f\"{number} || {number:032b}\\n\")\n",
    "            array_file.write(f\"Max: {max(random_numbers)} ,{bin(max(random_numbers))[2:].zfill(32)}\")\n",
    "\n",
    "gen(20)\n"
   ]
  },
  {
   "cell_type": "markdown",
   "metadata": {},
   "source": [
    "Reversing : "
   ]
  },
  {
   "cell_type": "code",
   "execution_count": 37,
   "metadata": {},
   "outputs": [],
   "source": [
    "# with open('instrdata.mem', 'r') as f:\n",
    "#     lines = f.readlines()\n",
    "\n",
    "# result = []\n",
    "# i = 0\n",
    "# while i < len(lines):\n",
    "#     if lines[i].startswith('@'):\n",
    "#         result.append(lines[i])\n",
    "#         block = lines[i+1:i+5]\n",
    "#         result.extend(block[::-1])\n",
    "#         i += 5\n",
    "\n",
    "# with open('dataR.mem', 'w') as f:\n",
    "#     f.writelines(result)"
   ]
  }
 ],
 "metadata": {
  "kernelspec": {
   "display_name": "Python 3",
   "language": "python",
   "name": "python3"
  },
  "language_info": {
   "codemirror_mode": {
    "name": "ipython",
    "version": 3
   },
   "file_extension": ".py",
   "mimetype": "text/x-python",
   "name": "python",
   "nbconvert_exporter": "python",
   "pygments_lexer": "ipython3",
   "version": "3.10.6"
  }
 },
 "nbformat": 4,
 "nbformat_minor": 2
}

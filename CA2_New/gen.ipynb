{
 "cells": [
  {
   "cell_type": "code",
   "execution_count": 11,
   "metadata": {},
   "outputs": [],
   "source": [
    "import random\n",
    "\n",
    "\n",
    "def gen(n):\n",
    "    for i in range(1, n+1):\n",
    "        random_numbers = [random.randint(0, 2**7 - 1) for _ in range(20)]\n",
    "        with open(f'test_cases/arr{i}.mem', 'w') as mem_file, open(f'test_cases/array{i}.txt', 'w') as array_file:\n",
    "\n",
    "            for number in random_numbers:\n",
    "                bytes_list = [(number >> i) & 0xFF for i in (24, 16, 8, 0)]\n",
    "                for byte in bytes_list:\n",
    "                    mem_file.write(f\"{byte:08b}\\n\")\n",
    "\n",
    "                array_file.write(f\"{number} || {number:032b}\\n\")\n",
    "\n",
    "            array_file.write(f\"Max: {max(random_numbers)}\")\n",
    "\n",
    "\n",
    "gen(3)\n"
   ]
  },
  {
   "cell_type": "code",
   "execution_count": 2,
   "metadata": {},
   "outputs": [],
   "source": [
    "with open(\"hex.txt\", \"r\") as file:\n",
    "    hex_nums = file.readlines()\n",
    "\n",
    "hex_nums = [line.strip() for line in hex_nums]\n",
    "\n",
    "with open(\"out.txt\", \"w\") as output_file:\n",
    "    for hex_num in hex_nums:\n",
    "        binary_num = bin(int(hex_num, 16))[2:].zfill(32)\n",
    "        bytes_list = [(int(binary_num, 2) >> i) & 0xFF for i in (24, 16, 8, 0)]\n",
    "        for byte in bytes_list:\n",
    "            output_file.write(format(byte, '08b') + \"\\n\")\n",
    "        output_file.write(\"\\n\")\n"
   ]
  },
  {
   "cell_type": "markdown",
   "metadata": {},
   "source": [
    "## DA DO?  **Reversed Edit :>**"
   ]
  },
  {
   "cell_type": "code",
   "execution_count": 136,
   "metadata": {},
   "outputs": [
    {
     "name": "stdout",
     "output_type": "stream",
     "text": [
      "581847301 00100010101011100100100100000101\n",
      "2878958852 10101011100110010110110100000100\n",
      "3201606499 10111110110101001010001101100011\n",
      "2397186273 10001110111000100010100011100001\n",
      "4117027080 11110101011001001101100100001000\n",
      "733368338 00101011101101100101000000010010\n",
      "490887269 00011101010000100101100001100101\n",
      "2314000738 10001001111011001101100101100010\n",
      "1263266055 01001011010010111110100100000111\n",
      "3820359195 11100011101101100000111000011011\n"
     ]
    }
   ],
   "source": [
    "import random\n",
    "\n",
    "\n",
    "def gen(n):\n",
    "    for i in range(1, n+1):\n",
    "        random_numbers = [random.randint(0, 2**32 - 1) for _ in range(10)]\n",
    "        with open(f'test_cases/arr{i}.mem', 'w') as mem_file, open(f'test_cases/array{i}.txt', 'w') as array_file:\n",
    "\n",
    "            for number in random_numbers:\n",
    "                bytes_list = [(number >> i) & 0xFF for i in (0, 8, 16, 24)]  #LSB to MSB\n",
    "                # reversed_bytes = [int('{:08b}'.format(byte)[::-1], 2) for byte in bytes_list]  \n",
    "                if(i==1):\n",
    "                    print(number, bin(number)[2:].zfill(32))\n",
    "                for byte in bytes_list:\n",
    "                    mem_file.write(f\"{byte:08b}\\n\")\n",
    "\n",
    "                array_file.write(f\"{number} || {number:032b}\\n\")\n",
    "\n",
    "            array_file.write(f\"Max: {max(random_numbers)} ,{bin(max(random_numbers))[2:].zfill(32)}\")\n",
    "\n",
    "\n",
    "gen(1)\n"
   ]
  }
 ],
 "metadata": {
  "kernelspec": {
   "display_name": "Python 3",
   "language": "python",
   "name": "python3"
  },
  "language_info": {
   "codemirror_mode": {
    "name": "ipython",
    "version": 3
   },
   "file_extension": ".py",
   "mimetype": "text/x-python",
   "name": "python",
   "nbconvert_exporter": "python",
   "pygments_lexer": "ipython3",
   "version": "3.10.6"
  }
 },
 "nbformat": 4,
 "nbformat_minor": 2
}

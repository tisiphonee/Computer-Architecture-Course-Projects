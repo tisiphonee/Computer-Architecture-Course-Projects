{
 "cells": [
  {
   "cell_type": "markdown",
   "metadata": {},
   "source": [
    "## DA DO?  **Reversed Edit :>**"
   ]
  },
  {
   "cell_type": "code",
   "execution_count": 137,
   "metadata": {},
   "outputs": [
    {
     "name": "stdout",
     "output_type": "stream",
     "text": [
      "990263211 00111011000001100011011110101011\n",
      "2859629428 10101010011100100111101101110100\n",
      "3619080488 11010111101101101100100100101000\n",
      "3580359202 11010101011001111111001000100010\n",
      "3777662332 11100001001010101000110101111100\n",
      "1301714633 01001101100101101001011011001001\n",
      "2523746223 10010110011011010100111110101111\n",
      "643636692 00100110010111010001110111010100\n",
      "4286613089 11111111100000001000011001100001\n",
      "4160260864 11110111111110001000101100000000\n"
     ]
    }
   ],
   "source": [
    "import random\n",
    "\n",
    "\n",
    "def gen(n):\n",
    "    for i in range(1, n+1):\n",
    "        random_numbers = [random.randint(0, 2**32 - 1) for _ in range(10)]\n",
    "        with open(f'test_cases/arr{i}.mem', 'w') as mem_file, open(f'test_cases/array{i}.txt', 'w') as array_file:\n",
    "\n",
    "            for number in random_numbers:\n",
    "                bytes_list = [(number >> i) & 0xFF for i in (0, 8, 16, 24)]  #LSB to MSB\n",
    "                # reversed_bytes = [int('{:08b}'.format(byte)[::-1], 2) for byte in bytes_list]  \n",
    "                if(i==1):\n",
    "                    print(number, bin(number)[2:].zfill(32))\n",
    "                for byte in bytes_list:\n",
    "                    mem_file.write(f\"{byte:08b}\\n\")\n",
    "\n",
    "                array_file.write(f\"{number} || {number:032b}\\n\")\n",
    "\n",
    "            array_file.write(f\"Max: {max(random_numbers)} ,{bin(max(random_numbers))[2:].zfill(32)}\")\n",
    "\n",
    "\n",
    "gen(10)\n"
   ]
  },
  {
   "cell_type": "markdown",
   "metadata": {},
   "source": [
    "NO Reverse : "
   ]
  },
  {
   "cell_type": "code",
   "execution_count": 149,
   "metadata": {},
   "outputs": [
    {
     "name": "stdout",
     "output_type": "stream",
     "text": [
      "996000555 00111011010111011100001100101011\n",
      "472033584 00011100001000101010100100110000\n",
      "1997555252 01110111000100000100011000110100\n",
      "636807893 00100101111101001110101011010101\n",
      "216405778 00001100111001100001011100010010\n",
      "1837344620 01101101100000111010011101101100\n",
      "1611368959 01100000000010111000100111111111\n",
      "157263442 00001001010111111010011001010010\n",
      "2805406237 10100111001101110001101000011101\n",
      "2853565689 10101010000101011111010011111001\n"
     ]
    }
   ],
   "source": [
    "import random\n",
    "\n",
    "\n",
    "def gen(n):\n",
    "    for i in range(1, n+1):\n",
    "        random_numbers = [random.randint(0, 2**32 - 1) for _ in range(10)]\n",
    "        with open(f'test_cases/arr{i}.mem', 'w') as mem_file, open(f'test_cases/array{i}.txt', 'w') as array_file:\n",
    "\n",
    "            for number in random_numbers:\n",
    "                bytes_list = [(number >> i) & 0xFF for i in (24, 16, 8, 0)]\n",
    "                if(i==1):\n",
    "                    print(number, bin(number)[2:].zfill(32))\n",
    "                for byte in bytes_list:\n",
    "                    mem_file.write(f\"{byte:08b}\\n\")\n",
    "\n",
    "                array_file.write(f\"{number} || {number:032b}\\n\")\n",
    "\n",
    "            array_file.write(f\"Max: {max(random_numbers)} ,{bin(max(random_numbers))[2:].zfill(32)}\")\n",
    "\n",
    "\n",
    "gen(10)\n"
   ]
  }
 ],
 "metadata": {
  "kernelspec": {
   "display_name": "Python 3",
   "language": "python",
   "name": "python3"
  },
  "language_info": {
   "codemirror_mode": {
    "name": "ipython",
    "version": 3
   },
   "file_extension": ".py",
   "mimetype": "text/x-python",
   "name": "python",
   "nbconvert_exporter": "python",
   "pygments_lexer": "ipython3",
   "version": "3.10.6"
  }
 },
 "nbformat": 4,
 "nbformat_minor": 2
}

{
 "cells": [
  {
   "cell_type": "code",
   "execution_count": 11,
   "metadata": {},
   "outputs": [],
   "source": [
    "import random\n",
    "\n",
    "\n",
    "def gen(n):\n",
    "    for i in range(1, n+1):\n",
    "        random_numbers = [random.randint(0, 2**7 - 1) for _ in range(20)]\n",
    "        with open(f'test_cases/arr{i}.mem', 'w') as mem_file, open(f'test_cases/array{i}.txt', 'w') as array_file:\n",
    "\n",
    "            for number in random_numbers:\n",
    "                bytes_list = [(number >> i) & 0xFF for i in (24, 16, 8, 0)]\n",
    "                for byte in bytes_list:\n",
    "                    mem_file.write(f\"{byte:08b}\\n\")\n",
    "\n",
    "                array_file.write(f\"{number} || {number:032b}\\n\")\n",
    "\n",
    "            array_file.write(f\"Max: {max(random_numbers)}\")\n",
    "\n",
    "\n",
    "gen(3)\n"
   ]
  },
  {
   "cell_type": "code",
   "execution_count": 2,
   "metadata": {},
   "outputs": [],
   "source": [
    "with open(\"hex.txt\", \"r\") as file:\n",
    "    hex_nums = file.readlines()\n",
    "\n",
    "hex_nums = [line.strip() for line in hex_nums]\n",
    "\n",
    "with open(\"out.txt\", \"w\") as output_file:\n",
    "    for hex_num in hex_nums:\n",
    "        binary_num = bin(int(hex_num, 16))[2:].zfill(32)\n",
    "        bytes_list = [(int(binary_num, 2) >> i) & 0xFF for i in (24, 16, 8, 0)]\n",
    "        for byte in bytes_list:\n",
    "            output_file.write(format(byte, '08b') + \"\\n\")\n",
    "        output_file.write(\"\\n\")\n"
   ]
  },
  {
   "cell_type": "markdown",
   "metadata": {},
   "source": [
    "## DA DO?  **Reversed Edit :>**"
   ]
  },
  {
   "cell_type": "code",
   "execution_count": 137,
   "metadata": {},
   "outputs": [
    {
     "name": "stdout",
     "output_type": "stream",
     "text": [
      "990263211 00111011000001100011011110101011\n",
      "2859629428 10101010011100100111101101110100\n",
      "3619080488 11010111101101101100100100101000\n",
      "3580359202 11010101011001111111001000100010\n",
      "3777662332 11100001001010101000110101111100\n",
      "1301714633 01001101100101101001011011001001\n",
      "2523746223 10010110011011010100111110101111\n",
      "643636692 00100110010111010001110111010100\n",
      "4286613089 11111111100000001000011001100001\n",
      "4160260864 11110111111110001000101100000000\n"
     ]
    }
   ],
   "source": [
    "import random\n",
    "\n",
    "\n",
    "def gen(n):\n",
    "    for i in range(1, n+1):\n",
    "        random_numbers = [random.randint(0, 2**32 - 1) for _ in range(10)]\n",
    "        with open(f'test_cases/arr{i}.mem', 'w') as mem_file, open(f'test_cases/array{i}.txt', 'w') as array_file:\n",
    "\n",
    "            for number in random_numbers:\n",
    "                bytes_list = [(number >> i) & 0xFF for i in (0, 8, 16, 24)]  #LSB to MSB\n",
    "                # reversed_bytes = [int('{:08b}'.format(byte)[::-1], 2) for byte in bytes_list]  \n",
    "                if(i==1):\n",
    "                    print(number, bin(number)[2:].zfill(32))\n",
    "                for byte in bytes_list:\n",
    "                    mem_file.write(f\"{byte:08b}\\n\")\n",
    "\n",
    "                array_file.write(f\"{number} || {number:032b}\\n\")\n",
    "\n",
    "            array_file.write(f\"Max: {max(random_numbers)} ,{bin(max(random_numbers))[2:].zfill(32)}\")\n",
    "\n",
    "\n",
    "gen(10)\n"
   ]
  }
 ],
 "metadata": {
  "kernelspec": {
   "display_name": "Python 3",
   "language": "python",
   "name": "python3"
  },
  "language_info": {
   "codemirror_mode": {
    "name": "ipython",
    "version": 3
   },
   "file_extension": ".py",
   "mimetype": "text/x-python",
   "name": "python",
   "nbconvert_exporter": "python",
   "pygments_lexer": "ipython3",
   "version": "3.10.6"
  }
 },
 "nbformat": 4,
 "nbformat_minor": 2
}

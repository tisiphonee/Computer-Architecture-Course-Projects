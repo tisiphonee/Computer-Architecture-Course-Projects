{
 "cells": [
  {
   "cell_type": "code",
   "execution_count": 11,
   "metadata": {},
   "outputs": [],
   "source": [
    "import random\n",
    "\n",
    "\n",
    "def gen(n):\n",
    "    for i in range(1, n+1):\n",
    "        random_numbers = [random.randint(0, 2**7 - 1) for _ in range(20)]\n",
    "        # print(f'{random_numbers[0]:32b}')\n",
    "        with open(f'test_cases/arr{i}.mem', 'w') as mem_file, open(f'test_cases/array{i}.txt', 'w') as array_file:\n",
    "            address = 0x3e8\n",
    "\n",
    "            for number in random_numbers:\n",
    "                bytes_list = [(number >> i) & 0xFF for i in (24, 16, 8, 0)]\n",
    "                mem_file.write(f\"@{hex(address)[2:]}\\n\")\n",
    "                for byte in bytes_list:\n",
    "                    mem_file.write(f\"{byte:08b}\\n\")\n",
    "                address += 4\n",
    "\n",
    "                array_file.write(f\"{number} || {number:032b}\\n\")\n",
    "\n",
    "            array_file.write(f\"Max: {max(random_numbers)}\")\n",
    "\n",
    "\n",
    "gen(3)\n"
   ]
  },
  {
   "cell_type": "code",
   "execution_count": 2,
   "metadata": {},
   "outputs": [],
   "source": [
    "with open(\"hex.txt\", \"r\") as file:\n",
    "    hex_nums = file.readlines()\n",
    "\n",
    "hex_nums = [line.strip() for line in hex_nums]\n",
    "\n",
    "with open(\"out.txt\", \"w\") as output_file:\n",
    "    for hex_num in hex_nums:\n",
    "        binary_num = bin(int(hex_num, 16))[2:].zfill(32)\n",
    "        bytes_list = [(int(binary_num, 2) >> i) & 0xFF for i in (24, 16, 8, 0)]\n",
    "        for byte in bytes_list:\n",
    "            output_file.write(format(byte, '08b') + \"\\n\")\n",
    "        output_file.write(\"\\n\")\n"
   ]
  }
 ],
 "metadata": {
  "kernelspec": {
   "display_name": "Python 3",
   "language": "python",
   "name": "python3"
  },
  "language_info": {
   "codemirror_mode": {
    "name": "ipython",
    "version": 3
   },
   "file_extension": ".py",
   "mimetype": "text/x-python",
   "name": "python",
   "nbconvert_exporter": "python",
   "pygments_lexer": "ipython3",
   "version": "3.10.6"
  }
 },
 "nbformat": 4,
 "nbformat_minor": 2
}
